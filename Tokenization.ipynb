{
 "cells": [
  {
   "cell_type": "code",
   "execution_count": 66,
   "id": "961f6312",
   "metadata": {},
   "outputs": [
    {
     "name": "stdout",
     "output_type": "stream",
     "text": [
      "Model loaded succeed\n"
     ]
    }
   ],
   "source": [
    "import re\n",
    "import json\n",
    "import thulac\n",
    "import pandas as pd\n",
    "from tqdm.notebook import tqdm\n",
    "\n",
    "thu = thulac.thulac(seg_only=True, user_dict=\"./text/TextDict.txt\", deli=\" \")\n",
    "\n",
    "# thu.cut(\"\", text=True)"
   ]
  },
  {
   "cell_type": "code",
   "execution_count": 57,
   "id": "c5f2e9ba",
   "metadata": {},
   "outputs": [],
   "source": [
    "def cleanText(sentence):\n",
    "    # punctuation = set([\"。\", \"，\", \"？\", \"！\", \"“\", \"”\", \"（\", \"）\"])\n",
    "    # cleaned = ''.join([char for char in cleaned if char not in punctuation])\n",
    "    cleaned = re.sub(r'\\[.*?\\]', \"\", sentence)\n",
    "\n",
    "    return cleaned\n",
    "\n",
    "defined = []\n",
    "with open(\"./text/TextDict.txt\", encoding=\"utf-8\") as f:\n",
    "    for line in f:\n",
    "        defined.append(line.strip().split(\" \")[0])\n",
    "    \n",
    "pattern = f\"({'|'.join(defined)})\"  # make sure to leave the delimiters in\n",
    "\n",
    "def preProcess(sentence: str):\n",
    "    cleaned = sentence.lower()\n",
    "    cleaned = re.sub(r'\\[.*?\\]', \"\", cleaned)  # removes emotes\n",
    "    cleaned.replace(\"\\n\", \"\")\n",
    "\n",
    "    # removes japanese characters\n",
    "    jpPattern = r'[\\u3040-\\u309F\\u30A0-\\u30FF\\uFF65-\\uFF9F]'\n",
    "    cleaned = re.sub(jpPattern, \"\", cleaned)\n",
    "    \n",
    "    parts = re.split(pattern, cleaned)\n",
    "    newSentence = ' '.join([part for part in parts if part])\n",
    "\n",
    "    return newSentence"
   ]
  },
  {
   "cell_type": "code",
   "execution_count": 63,
   "id": "d1078d9e",
   "metadata": {},
   "outputs": [
    {
     "data": {
      "application/vnd.jupyter.widget-view+json": {
       "model_id": "ab3c8a92f3a34415a4f0446a1fe37a77",
       "version_major": 2,
       "version_minor": 0
      },
      "text/plain": [
       "  0%|          | 0/53 [00:00<?, ?it/s]"
      ]
     },
     "metadata": {},
     "output_type": "display_data"
    }
   ],
   "source": [
    "from collections import Counter\n",
    "\n",
    "mainCounter = Counter()\n",
    "\n",
    "for i in tqdm(range(1, 54)):\n",
    "    with open(f\"./data/ba-mahjong/DataFile{i}.json\", encoding=\"utf-8\") as f:\n",
    "        data = json.load(f)\n",
    "    df = pd.DataFrame(data)\n",
    "\n",
    "    for j in range(len(df['content'])):\n",
    "        current = preProcess(df['content'][j])\n",
    "        words = [l[0] for l in thu.cut(current)]\n",
    "\n",
    "        mainCounter += Counter(words)"
   ]
  },
  {
   "cell_type": "code",
   "execution_count": 64,
   "id": "6217a420",
   "metadata": {},
   "outputs": [],
   "source": [
    "with open(\"./text/Counterv2.1.json\", \"w+\", encoding=\"utf-8\") as f:\n",
    "    json.dump(dict(sorted(mainCounter.items(), key=lambda item:item[1], reverse=True)), f, ensure_ascii=False)"
   ]
  },
  {
   "cell_type": "code",
   "execution_count": null,
   "id": "a7873d6f",
   "metadata": {},
   "outputs": [],
   "source": []
  }
 ],
 "metadata": {
  "kernelspec": {
   "display_name": "Python 3 (ipykernel)",
   "language": "python",
   "name": "python3"
  },
  "language_info": {
   "codemirror_mode": {
    "name": "ipython",
    "version": 3
   },
   "file_extension": ".py",
   "mimetype": "text/x-python",
   "name": "python",
   "nbconvert_exporter": "python",
   "pygments_lexer": "ipython3",
   "version": "3.9.18"
  }
 },
 "nbformat": 4,
 "nbformat_minor": 5
}
