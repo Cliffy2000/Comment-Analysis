{
 "cells": [
  {
   "cell_type": "code",
   "execution_count": 2,
   "id": "961f6312",
   "metadata": {},
   "outputs": [
    {
     "name": "stdout",
     "output_type": "stream",
     "text": [
      "Model loaded succeed\n"
     ]
    }
   ],
   "source": [
    "import re\n",
    "import json\n",
    "import thulac\n",
    "import pandas as pd\n",
    "from tqdm.notebook import tqdm\n",
    "\n",
    "thu = thulac.thulac(seg_only=True, user_dict=\"./text/TextDict.txt\")\n",
    "\n",
    "# thu.cut(\"\", text=True)"
   ]
  },
  {
   "cell_type": "code",
   "execution_count": 7,
   "id": "c5f2e9ba",
   "metadata": {},
   "outputs": [],
   "source": [
    "def cleanText(sentence):\n",
    "    punctuation = set([\"。\", \"，\", \"？\", \"！\", \"“\", \"”\", \"（\", \"）\"])\n",
    "    cleaned = re.sub(r'\\[.*?\\]', \"\", sentence)\n",
    "    cleaned = ''.join([char for char in cleaned if char not in punctuation])\n",
    "\n",
    "    return cleaned"
   ]
  },
  {
   "cell_type": "code",
   "execution_count": 11,
   "id": "d1078d9e",
   "metadata": {},
   "outputs": [
    {
     "data": {
      "application/vnd.jupyter.widget-view+json": {
       "model_id": "f1e5da88d1d94a30882318de43818daa",
       "version_major": 2,
       "version_minor": 0
      },
      "text/plain": [
       "  0%|          | 0/53 [00:00<?, ?it/s]"
      ]
     },
     "metadata": {},
     "output_type": "display_data"
    }
   ],
   "source": [
    "from collections import Counter\n",
    "\n",
    "mainCounter = Counter()\n",
    "\n",
    "for i in tqdm(range(1, 54)):\n",
    "    with open(f\"./data/ba-mahjong/DataFile{i}.json\", encoding=\"utf-8\") as f:\n",
    "        data = json.load(f)\n",
    "    df = pd.DataFrame(data)\n",
    "\n",
    "    for j in range(len(df['content'])):\n",
    "        current = cleanText(df['content'][j])\n",
    "        words = [l[0] for l in thu.cut(current)]\n",
    "\n",
    "        mainCounter += Counter(words)"
   ]
  },
  {
   "cell_type": "code",
   "execution_count": 14,
   "id": "6217a420",
   "metadata": {},
   "outputs": [],
   "source": [
    "with open(\".text/Counterv1.json\", \"w\", encoding=\"utf-8\") as f:\n",
    "    json.dump(dict(sorted(mainCounter.items(), key=lambda item:item[1], reverse=True)), f, ensure_ascii=False)"
   ]
  },
  {
   "cell_type": "code",
   "execution_count": null,
   "id": "807ddee3",
   "metadata": {},
   "outputs": [],
   "source": []
  }
 ],
 "metadata": {
  "kernelspec": {
   "display_name": "Python 3 (ipykernel)",
   "language": "python",
   "name": "python3"
  },
  "language_info": {
   "codemirror_mode": {
    "name": "ipython",
    "version": 3
   },
   "file_extension": ".py",
   "mimetype": "text/x-python",
   "name": "python",
   "nbconvert_exporter": "python",
   "pygments_lexer": "ipython3",
   "version": "3.9.18"
  }
 },
 "nbformat": 4,
 "nbformat_minor": 5
}
