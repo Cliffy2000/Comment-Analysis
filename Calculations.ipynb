{
 "cells": [
  {
   "cell_type": "code",
   "execution_count": 75,
   "metadata": {},
   "outputs": [],
   "source": [
    "import io\n",
    "import math\n",
    "import json\n",
    "import gzip\n",
    "import time\n",
    "import pandas as pd\n",
    "import matplotlib.pyplot as plt\n",
    "from collections import Counter\n",
    "from tqdm.notebook import trange, tqdm"
   ]
  },
  {
   "cell_type": "markdown",
   "metadata": {},
   "source": [
    "Single String Algorithms"
   ]
  },
  {
   "cell_type": "code",
   "execution_count": 17,
   "metadata": {},
   "outputs": [],
   "source": [
    "words1 = [\n",
    "    'Lorem', 'ipsum', 'dolor', 'sit', 'amet', 'consectetur', 'adipiscing', 'elit', 'Pellentesque', 'sodales', \n",
    "    'turpis', 'eu', 'fermentum', 'luctus', 'arcu', 'velit', 'pulvinar', 'est', 'eu', 'pellentesque'\n",
    "    ]\n",
    "words2 = [\n",
    "    'cats', 'cats', 'cats', 'cats', 'cats', 'cats', 'cats', 'cats', 'cats', 'cats', \n",
    "    'banana', 'banana', 'banana', 'banana', 'banana', 'banana', 'banana', 'banana', 'banana', 'banana'\n",
    "    ]"
   ]
  },
  {
   "cell_type": "code",
   "execution_count": 18,
   "metadata": {},
   "outputs": [],
   "source": [
    "# Entropy\n",
    "\n",
    "def calculateEntropy(words):\n",
    "    wordFrequencies = Counter(words)\n",
    "    total = len(words)\n",
    "\n",
    "    entropy = -sum((freq / total) * math.log2(freq / total) for freq in wordFrequencies.values())\n",
    "    return entropy"
   ]
  },
  {
   "cell_type": "code",
   "execution_count": 19,
   "metadata": {},
   "outputs": [
    {
     "name": "stdout",
     "output_type": "stream",
     "text": [
      "4.221928094887362\n",
      "1.0\n"
     ]
    }
   ],
   "source": [
    "print(calculateEntropy(words1))\n",
    "print(calculateEntropy(words2))"
   ]
  },
  {
   "cell_type": "code",
   "execution_count": 12,
   "metadata": {},
   "outputs": [],
   "source": [
    "# Compression Ratio\n",
    "\n",
    "def calculateCompressionRatio(words):\n",
    "    original = ''.join(words).encode('utf-8')\n",
    "    originalSize = len(original)\n",
    "\n",
    "    buffer = io.BytesIO()\n",
    "    with gzip.GzipFile(fileobj=buffer, mode=\"wb\") as f:\n",
    "        f.write(original)\n",
    "    \n",
    "    compressed = buffer.getvalue()\n",
    "    compressedSize = len(compressed)\n",
    "    \n",
    "    return originalSize / compressedSize"
   ]
  },
  {
   "cell_type": "code",
   "execution_count": 20,
   "metadata": {},
   "outputs": [
    {
     "name": "stdout",
     "output_type": "stream",
     "text": [
      "1.1826923076923077\n",
      "3.0303030303030303\n"
     ]
    }
   ],
   "source": [
    "print(calculateCompressionRatio(words1))\n",
    "print(calculateCompressionRatio(words2))"
   ]
  },
  {
   "cell_type": "code",
   "execution_count": 82,
   "metadata": {},
   "outputs": [],
   "source": [
    "# Most Repeated Substring\n",
    "# This function looks for the most repeated substring in a string/sentence. A very inefficient function. \n",
    "\n",
    "def findMostRepeated(words):\n",
    "    string = ''.join(words).replace('\\n', '')\n",
    "\n",
    "    if len(string) < 3:\n",
    "        return 1, ''\n",
    "\n",
    "    checked = set()\n",
    "    maxRepetition = 0\n",
    "    maxSubstring = ''\n",
    "    \n",
    "    for i in range(len(string)-1):\n",
    "        for j in range(i+2, len(string)+1):\n",
    "            substring = string[i:j]\n",
    "\n",
    "            if substring not in checked:\n",
    "                frequency = (len(string.split(substring)) - 1)\n",
    "                score = (len(string.split(substring)) - 1) * len(substring)\n",
    "                if score > maxRepetition and frequency > 1:\n",
    "                    maxRepetition = score\n",
    "                    maxSubstring = substring\n",
    "                checked.add(substring)\n",
    "    \n",
    "    return maxRepetition, maxSubstring"
   ]
  },
  {
   "cell_type": "code",
   "execution_count": 83,
   "metadata": {},
   "outputs": [
    {
     "name": "stdout",
     "output_type": "stream",
     "text": [
      "(22, 'ellentesque')\n",
      "(60, 'banana')\n"
     ]
    }
   ],
   "source": [
    "print(findMostRepeated(words1))\n",
    "print(findMostRepeated(words2))"
   ]
  },
  {
   "cell_type": "code",
   "execution_count": 42,
   "metadata": {},
   "outputs": [],
   "source": [
    "# test unit\n",
    "\n",
    "with open(\"DataFile1.json\", encoding=\"utf-8\") as f:\n",
    "    data = json.load(f)\n",
    "\n",
    "df = pd.DataFrame(data)"
   ]
  },
  {
   "cell_type": "code",
   "execution_count": 74,
   "metadata": {},
   "outputs": [
    {
     "data": {
      "application/vnd.jupyter.widget-view+json": {
       "model_id": "df8cd08f5d7b471b928cd8a0824ffb65",
       "version_major": 2,
       "version_minor": 0
      },
      "text/plain": [
       "  0%|          | 0/5019 [00:00<?, ?it/s]"
      ]
     },
     "metadata": {},
     "output_type": "display_data"
    }
   ],
   "source": [
    "scores = []\n",
    "\n",
    "for i in tqdm(range(len(df['content']))):\n",
    "    scores.append(findMostRepeated(df['content'][i])[0])"
   ]
  },
  {
   "cell_type": "code",
   "execution_count": 76,
   "metadata": {},
   "outputs": [
    {
     "data": {
      "text/plain": [
       "[<matplotlib.lines.Line2D at 0x16ac65eeb20>]"
      ]
     },
     "execution_count": 76,
     "metadata": {},
     "output_type": "execute_result"
    },
    {
     "data": {
      "image/png": "[encoded data removed]",
      "text/plain": [
       "<Figure size 640x480 with 1 Axes>"
      ]
     },
     "metadata": {},
     "output_type": "display_data"
    }
   ],
   "source": [
    "plt.plot(scores)"
   ]
  },
  {
   "cell_type": "code",
   "execution_count": null,
   "metadata": {},
   "outputs": [],
   "source": [
    "Counter(scores)"
   ]
  },
  {
   "cell_type": "code",
   "execution_count": null,
   "metadata": {},
   "outputs": [],
   "source": []
  }
 ],
 "metadata": {
  "kernelspec": {
   "display_name": "python39",
   "language": "python",
   "name": "python3"
  },
  "language_info": {
   "codemirror_mode": {
    "name": "ipython",
    "version": 3
   },
   "file_extension": ".py",
   "mimetype": "text/x-python",
   "name": "python",
   "nbconvert_exporter": "python",
   "pygments_lexer": "ipython3",
   "version": "3.9.19"
  }
 },
 "nbformat": 4,
 "nbformat_minor": 2
}
